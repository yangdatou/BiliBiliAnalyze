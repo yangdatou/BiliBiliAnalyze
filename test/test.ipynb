{
 "cells": [
  {
   "cell_type": "code",
   "execution_count": 2,
   "metadata": {},
   "outputs": [
    {
     "name": "stdout",
     "output_type": "stream",
     "text": [
      "No cookie found, some information may not be dumped\n",
      "No subtitle found\n",
      "### BiliBiliVideo Basic Info\n",
      "- `aid   = 865757640`\n",
      "- `cid   = 1047319409`\n",
      "- `bvid  = BV1E54y1M7fe`\n",
      "- `title = 【睡前消息561】中国“争气机”，为第2次工业革命补课`\n",
      "\n",
      "### BiliBiliVideo Stat Info\n",
      "- `reply_num  = 1297`\n",
      "- `damaku_num = 1347`\n",
      "- `view_num   = 365837`\n",
      "- `coin_num   = 10355`\n",
      "- `like_num   = 24306`\n",
      "- `fav_num    = 3477`\n",
      "- `share_num  = 976`\n",
      "No cookie found, some information may not be dumped\n",
      "No cookie found, some information may not be dumped\n",
      "\n",
      "### Reply Summarize\n",
      "Total number of replies dumped: 40\n",
      "\n",
      " - [语气：愤怒，主要内容：批](https://www.bilibili.com/h5/comment/sub?oid=865757640&pageType=1&root=155886242512): 一边凉快去，假装工业党的无良自媒体\n"
     ]
    }
   ],
   "source": [
    "import sys, os\n",
    "sys.path.append(\"../src/\")\n",
    "\n",
    "from bilibili import BiliBiliVideo\n",
    "from openai_api import SummarizeReply\n",
    "\n",
    "OPENAI_API_KEY  = os.environ.get(\"OPENAI_API_KEY\", None)\n",
    "BILIBILI_COOKIE = os.environ.get(\"BILIBILI_COOKIE\", None)\n",
    "\n",
    "def test_reply_summarize(bvid, max_page=2):\n",
    "    bv = BiliBiliVideo(bvid)\n",
    "\n",
    "    # The replies shall be accessible without login\n",
    "    bv.bilibili_cookie = None\n",
    "\n",
    "    bv.dump_info()\n",
    "    reply_list = bv.dump_reply(max_page=2)\n",
    "\n",
    "    sr = SummarizeReply()\n",
    "    sr.api_key = OPENAI_API_KEY\n",
    "\n",
    "    print(\"\\n### Reply Summarize\")\n",
    "    print(\"Total number of replies dumped: %d\" %len(reply_list))\n",
    "\n",
    "    reply = reply_list[0]\n",
    "        \n",
    "    c = [\"这个视频的作者被观众称为督工、马逆、秃头咪蒙等，节目名字是睡前消息，视频标题是：\", bv.title]\n",
    "    c = [\"这是一条对视频的评论：\", reply[1]]\n",
    "    m = sr.run(c)\n",
    "\n",
    "    print(\"\\n - [%s](%s): %s\" %(m[\"choices\"][0][\"message\"][\"content\"], reply[0], reply[1].replace(\"\\n\", \" ；\")))\n",
    "        \n",
    "\n",
    "if __name__ == \"__main__\":\n",
    "    test_reply_summarize(\"BV1E54y1M7fe\", max_page=2)"
   ]
  }
 ],
 "metadata": {
  "kernelspec": {
   "display_name": "base",
   "language": "python",
   "name": "python3"
  },
  "language_info": {
   "codemirror_mode": {
    "name": "ipython",
    "version": 3
   },
   "file_extension": ".py",
   "mimetype": "text/x-python",
   "name": "python",
   "nbconvert_exporter": "python",
   "pygments_lexer": "ipython3",
   "version": "3.9.13"
  },
  "orig_nbformat": 4
 },
 "nbformat": 4,
 "nbformat_minor": 2
}
